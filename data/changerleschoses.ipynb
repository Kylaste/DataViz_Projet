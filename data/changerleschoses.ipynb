{
 "cells": [
  {
   "cell_type": "code",
   "execution_count": 98,
   "metadata": {},
   "outputs": [],
   "source": [
    "import pandas as pd\n",
    "from dijkstar import Graph, find_path"
   ]
  },
  {
   "cell_type": "code",
   "execution_count": 99,
   "metadata": {},
   "outputs": [
    {
     "data": {
      "text/html": [
       "<div>\n",
       "<style>\n",
       "    .dataframe thead tr:only-child th {\n",
       "        text-align: right;\n",
       "    }\n",
       "\n",
       "    .dataframe thead th {\n",
       "        text-align: left;\n",
       "    }\n",
       "\n",
       "    .dataframe tbody tr th {\n",
       "        vertical-align: top;\n",
       "    }\n",
       "</style>\n",
       "<table border=\"1\" class=\"dataframe\">\n",
       "  <thead>\n",
       "    <tr style=\"text-align: right;\">\n",
       "      <th></th>\n",
       "      <th>source</th>\n",
       "      <th>target</th>\n",
       "      <th>weight</th>\n",
       "      <th>annee</th>\n",
       "      <th>mois</th>\n",
       "      <th>commentaire</th>\n",
       "    </tr>\n",
       "  </thead>\n",
       "  <tbody>\n",
       "    <tr>\n",
       "      <th>0</th>\n",
       "      <td>TOULOUSE MATABIAU</td>\n",
       "      <td>PARIS MONTPARNASSE</td>\n",
       "      <td>89.0</td>\n",
       "      <td>2015</td>\n",
       "      <td>2</td>\n",
       "      <td>Cette destination a été touchée par 6 incident...</td>\n",
       "    </tr>\n",
       "    <tr>\n",
       "      <th>1</th>\n",
       "      <td>VANNES</td>\n",
       "      <td>PARIS MONTPARNASSE</td>\n",
       "      <td>90.7</td>\n",
       "      <td>2015</td>\n",
       "      <td>2</td>\n",
       "      <td>Cette ligne a été touchée par un incident maje...</td>\n",
       "    </tr>\n",
       "    <tr>\n",
       "      <th>2</th>\n",
       "      <td>LA ROCHELLE VILLE</td>\n",
       "      <td>PARIS MONTPARNASSE</td>\n",
       "      <td>94.1</td>\n",
       "      <td>2015</td>\n",
       "      <td>3</td>\n",
       "      <td>Cette OD a été touchée par les événements suiv...</td>\n",
       "    </tr>\n",
       "    <tr>\n",
       "      <th>3</th>\n",
       "      <td>ST PIERRE DES CORPS</td>\n",
       "      <td>PARIS MONTPARNASSE</td>\n",
       "      <td>84.3</td>\n",
       "      <td>2015</td>\n",
       "      <td>2</td>\n",
       "      <td>NaN</td>\n",
       "    </tr>\n",
       "    <tr>\n",
       "      <th>4</th>\n",
       "      <td>LE CREUSOT MONTCEAU MONTCHANIN</td>\n",
       "      <td>PARIS LYON</td>\n",
       "      <td>94.9</td>\n",
       "      <td>2015</td>\n",
       "      <td>3</td>\n",
       "      <td>NaN</td>\n",
       "    </tr>\n",
       "  </tbody>\n",
       "</table>\n",
       "</div>"
      ],
      "text/plain": [
       "                           source              target  weight  annee  mois  \\\n",
       "0               TOULOUSE MATABIAU  PARIS MONTPARNASSE    89.0   2015     2   \n",
       "1                          VANNES  PARIS MONTPARNASSE    90.7   2015     2   \n",
       "2               LA ROCHELLE VILLE  PARIS MONTPARNASSE    94.1   2015     3   \n",
       "3             ST PIERRE DES CORPS  PARIS MONTPARNASSE    84.3   2015     2   \n",
       "4  LE CREUSOT MONTCEAU MONTCHANIN          PARIS LYON    94.9   2015     3   \n",
       "\n",
       "                                         commentaire  \n",
       "0  Cette destination a été touchée par 6 incident...  \n",
       "1  Cette ligne a été touchée par un incident maje...  \n",
       "2  Cette OD a été touchée par les événements suiv...  \n",
       "3                                                NaN  \n",
       "4                                                NaN  "
      ]
     },
     "execution_count": 99,
     "metadata": {},
     "output_type": "execute_result"
    }
   ],
   "source": [
    "mdf = pd.read_csv('trajets_tgv.csv',delimiter=',', error_bad_lines=False)\n",
    "mdf.head()"
   ]
  },
  {
   "cell_type": "code",
   "execution_count": 100,
   "metadata": {},
   "outputs": [],
   "source": [
    "\n",
    "def get_reg(df, a, b):\n",
    "    tmp = df[df['source'] == a]\n",
    "    return tmp[tmp['target'] == b]['weight'].as_matrix()[0]\n",
    "def get_com(df, a, b):\n",
    "    tmp = df[df['source'] == a]\n",
    "    return tmp[tmp['target'] == b]['commentaire'].as_matrix()[0]\n"
   ]
  },
  {
   "cell_type": "code",
   "execution_count": 109,
   "metadata": {},
   "outputs": [],
   "source": [
    "from functools import reduce\n",
    "list_ = []\n",
    "stations = set(df['source'])\n",
    "links = df[['source', 'target']].as_matrix()\n",
    "graph = Graph()\n",
    "for a, b in links:\n",
    "    graph.add_edge(a, b, {'cost': 1})\n",
    "cost_func = lambda u, v, e, prev_e: e['cost']\n",
    "        \n",
    "for year in range(2011, 2018):\n",
    "    for mois in range(1, 13):\n",
    "        tmp = mdf[mdf['annee'] == year]\n",
    "        df = tmp[tmp['mois'] == mois]\n",
    "\n",
    "        stations = set(df['source'])\n",
    "        links = df[['source', 'target']].as_matrix()\n",
    "        graph = Graph()\n",
    "        for a, b in links:\n",
    "            graph.add_edge(a, b, {'cost': 1})\n",
    "        cost_func = lambda u, v, e, prev_e: e['cost']\n",
    "        \n",
    "        for a in stations:\n",
    "            for b in stations:\n",
    "                if a != b:\n",
    "                    nodes = find_path(graph, a, b, cost_func=cost_func).nodes\n",
    "                    depart = nodes[0]\n",
    "                    arrive = nodes[-1]\n",
    "                    regularite = reduce(lambda a, b: a*b/100, [get_reg(df, nodes[i], nodes[i + 1]) for i in range(len(nodes) - 1)], 1) \n",
    "                    commentaire = \"\"\n",
    "                    list_.append(\n",
    "                        [a, b, year, mois, regularite, commentaire]\n",
    "                    )"
   ]
  },
  {
   "cell_type": "code",
   "execution_count": 110,
   "metadata": {},
   "outputs": [],
   "source": [
    "import numpy\n",
    "a = numpy.asarray(list_)\n",
    "d = pd.DataFrame(a)\n",
    "d.to_csv(\"multiple.csv\", sep=',', header=['source', 'target', 'annee', 'mois', 'weight', 'commentaire'])\n"
   ]
  },
  {
   "cell_type": "code",
   "execution_count": 128,
   "metadata": {},
   "outputs": [],
   "source": [
    "df = pd.read_csv('../../projet/data/multiple.csv').dropna(axis=1, how='all')\n",
    "df.head()\n",
    "df.to_csv(\"../../projet/data/multiple2.csv\", sep=',', header=['', 'toto', 'source', 'target', 'weight', 'annee', 'mois', 'commentaire'])\n"
   ]
  },
  {
   "cell_type": "code",
   "execution_count": 88,
   "metadata": {},
   "outputs": [
    {
     "name": "stdout",
     "output_type": "stream",
     "text": [
      "a <class 'numpy.float64'>\n",
      "{'Départ': 'VANNES', 'Arrivée': 'PARIS MONTPARNASSE', 'Date': '4', 'Regularité': 0.92599999999999993}\n"
     ]
    }
   ],
   "source": [
    "tmp = df[df['Départ'] == 'VANNES']\n",
    "tmp[tmp['Arrivée']=='PARIS MONTPARNASSE']\n",
    "\n",
    "nodes = find_path(graph, 'VANNES', 'PARIS MONTPARNASSE', cost_func=cost_func).nodes\n",
    "date = year\n",
    "depart = nodes[0]\n",
    "arrive = nodes[-1]\n",
    "print('a', type(get_reg(df, 'VANNES', 'PARIS MONTPARNASSE')))\n",
    "regularite = reduce(lambda a, b: a*b/100, [get_reg(df, nodes[i], nodes[i + 1]) for i in range(len(nodes) - 1)], 1) \n",
    "print(\n",
    "    {\n",
    "        'Départ':'VANNES', \n",
    "        'Arrivée':'PARIS MONTPARNASSE', \n",
    "        'Date': date, \n",
    "        'Regularité': regularite\n",
    "    }\n",
    ")"
   ]
  }
 ],
 "metadata": {
  "kernelspec": {
   "display_name": "Python 3",
   "language": "python",
   "name": "python3"
  },
  "language_info": {
   "codemirror_mode": {
    "name": "ipython",
    "version": 3
   },
   "file_extension": ".py",
   "mimetype": "text/x-python",
   "name": "python",
   "nbconvert_exporter": "python",
   "pygments_lexer": "ipython3",
   "version": "3.6.3"
  }
 },
 "nbformat": 4,
 "nbformat_minor": 2
}
